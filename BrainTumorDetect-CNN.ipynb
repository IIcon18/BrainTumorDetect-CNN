{
 "cells": [
  {
   "metadata": {},
   "cell_type": "markdown",
   "source": "<h1>CNN for to detect brain tumors using MRI images</h1>",
   "id": "1c61891ac0dd4ea6"
  },
  {
   "metadata": {},
   "cell_type": "markdown",
   "source": "<h3>Этап 1</h3>",
   "id": "82e7cf4b7c0e0fae"
  },
  {
   "metadata": {},
   "cell_type": "code",
   "outputs": [],
   "execution_count": null,
   "source": "",
   "id": "8f01c29f078bc629"
  },
  {
   "metadata": {},
   "cell_type": "markdown",
   "source": "<h3>Этап 2</h3>",
   "id": "e06f39bc80c95275"
  },
  {
   "metadata": {},
   "cell_type": "markdown",
   "source": "<h3>Этап 3</h3>",
   "id": "cd2567d6384fb5b0"
  }
 ],
 "metadata": {
  "kernelspec": {
   "display_name": "Python 3",
   "language": "python",
   "name": "python3"
  },
  "language_info": {
   "codemirror_mode": {
    "name": "ipython",
    "version": 2
   },
   "file_extension": ".py",
   "mimetype": "text/x-python",
   "name": "python",
   "nbconvert_exporter": "python",
   "pygments_lexer": "ipython2",
   "version": "2.7.6"
  }
 },
 "nbformat": 4,
 "nbformat_minor": 5
}
