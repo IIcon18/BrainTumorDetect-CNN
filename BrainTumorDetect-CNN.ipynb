{
 "cells": [
  {
   "metadata": {},
   "cell_type": "markdown",
   "source": "<h1>CNN for to detect brain tumors using MRI images</h1>",
   "id": "1c61891ac0dd4ea6"
  },
  {
   "metadata": {},
   "cell_type": "markdown",
   "source": "<h3>Этап 1</h3> Импортируем библиотеки",
   "id": "82e7cf4b7c0e0fae"
  },
  {
   "metadata": {
    "ExecuteTime": {
     "end_time": "2025-05-06T13:36:36.261124Z",
     "start_time": "2025-05-06T13:36:35.676777Z"
    }
   },
   "cell_type": "code",
   "source": [
    "import os\n",
    "import shutil\n",
    "from sklearn.model_selection import train_test_split"
   ],
   "id": "8f01c29f078bc629",
   "outputs": [],
   "execution_count": 1
  },
  {
   "metadata": {},
   "cell_type": "markdown",
   "source": "<h3>Этап 2</h3> Определяем директории",
   "id": "e06f39bc80c95275"
  },
  {
   "metadata": {
    "ExecuteTime": {
     "end_time": "2025-05-06T13:36:36.267592Z",
     "start_time": "2025-05-06T13:36:36.264569Z"
    }
   },
   "cell_type": "code",
   "source": [
    "DATA_DIR = \"data/raw\"\n",
    "TRAIN_DIR = \"data/train\"\n",
    "VAL_DIR = \"data/val\"\n",
    "TEST_DIR = \"data/test\"\n",
    "categories = [\"yes\", \"no\"]"
   ],
   "id": "ca09678b7b80b5b2",
   "outputs": [],
   "execution_count": 2
  },
  {
   "metadata": {},
   "cell_type": "markdown",
   "source": "<h3>Этап 3</h3> Создаем директории",
   "id": "cd2567d6384fb5b0"
  },
  {
   "metadata": {
    "ExecuteTime": {
     "end_time": "2025-05-06T13:36:36.379097Z",
     "start_time": "2025-05-06T13:36:36.375482Z"
    }
   },
   "cell_type": "code",
   "source": [
    "for dir_path in [TRAIN_DIR, VAL_DIR, TEST_DIR]:\n",
    "    os.makedirs(dir_path, exist_ok=True)\n",
    "    for category in categories:\n",
    "        os.makedirs(os.path.join(dir_path, category), exist_ok=True)"
   ],
   "id": "c90958c871dbe3e4",
   "outputs": [],
   "execution_count": 3
  },
  {
   "metadata": {},
   "cell_type": "markdown",
   "source": "<h3>Этап 4</h3> Распределяем данные по директориям ",
   "id": "5becc45d084d8972"
  },
  {
   "metadata": {
    "ExecuteTime": {
     "end_time": "2025-05-06T13:36:36.387745Z",
     "start_time": "2025-05-06T13:36:36.385910Z"
    }
   },
   "cell_type": "code",
   "source": "",
   "id": "4e5ce255c1761d67",
   "outputs": [],
   "execution_count": null
  }
 ],
 "metadata": {
  "kernelspec": {
   "display_name": "Python 3",
   "language": "python",
   "name": "python3"
  },
  "language_info": {
   "codemirror_mode": {
    "name": "ipython",
    "version": 2
   },
   "file_extension": ".py",
   "mimetype": "text/x-python",
   "name": "python",
   "nbconvert_exporter": "python",
   "pygments_lexer": "ipython2",
   "version": "2.7.6"
  }
 },
 "nbformat": 4,
 "nbformat_minor": 5
}
