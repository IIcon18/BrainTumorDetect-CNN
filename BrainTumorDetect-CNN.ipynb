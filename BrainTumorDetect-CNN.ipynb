{
 "cells": [
  {
   "metadata": {},
   "cell_type": "markdown",
   "source": "<h1>CNN for to detect brain tumors using MRI images</h1>",
   "id": "1c61891ac0dd4ea6"
  },
  {
   "metadata": {},
   "cell_type": "markdown",
   "source": "<h3>Этап 1</h3> Разделение данных",
   "id": "82e7cf4b7c0e0fae"
  },
  {
   "metadata": {
    "ExecuteTime": {
     "end_time": "2025-05-06T16:47:42.361605Z",
     "start_time": "2025-05-06T16:47:20.908518Z"
    }
   },
   "cell_type": "code",
   "source": [
    "import os\n",
    "from kaggle.api.kaggle_api_extended import KaggleApi\n",
    "\n",
    "# Параметры\n",
    "dataset = \"navoneel/brain-mri-images-for-brain-tumor-detection\"\n",
    "output_dir = \"data/raw\"\n",
    "zip_file = f\"{output_dir}/brain-mri-images-for-brain-tumor-detection.zip\"\n",
    "\n",
    "# Скачивание и распаковка данных\n",
    "def download_and_prepare_data():\n",
    "    os.makedirs(output_dir, exist_ok=True)\n",
    "    api = KaggleApi()\n",
    "    api.authenticate()\n",
    "    \n",
    "    # Скачиваем датасет\n",
    "    print(\"Downloading dataset...\")\n",
    "    api.dataset_download_files(dataset, path=output_dir, unzip=False)\n",
    "    print(\"Download complete.\")\n",
    "    \n",
    "    # Распаковка\n",
    "    print(\"Unzipping dataset...\")\n",
    "    os.system(f\"unzip -o {zip_file} -d {output_dir}\")\n",
    "    print(\"Unzipping complete.\")\n",
    "    \n",
    "    # Удаляем zip-файл\n",
    "    os.remove(zip_file)\n",
    "    print(\"Dataset is ready.\")\n",
    "\n",
    "# Запуск\n",
    "download_and_prepare_data()\n"
   ],
   "id": "b6450afcfc2f66cc",
   "outputs": [
    {
     "name": "stdout",
     "output_type": "stream",
     "text": [
      "Downloading dataset...\n",
      "Dataset URL: https://www.kaggle.com/datasets/navoneel/brain-mri-images-for-brain-tumor-detection\n",
      "Download complete.\n",
      "Unzipping dataset...\n",
      "Unzipping complete.\n",
      "Dataset is ready.\n"
     ]
    }
   ],
   "execution_count": 24
  },
  {
   "metadata": {
    "ExecuteTime": {
     "end_time": "2025-05-06T16:27:40.428897Z",
     "start_time": "2025-05-06T16:27:40.426199Z"
    }
   },
   "cell_type": "code",
   "source": [
    "import os\n",
    "import shutil\n",
    "from sklearn.model_selection import train_test_split"
   ],
   "id": "8f01c29f078bc629",
   "outputs": [],
   "execution_count": 19
  },
  {
   "metadata": {
    "ExecuteTime": {
     "end_time": "2025-05-06T16:27:41.973548Z",
     "start_time": "2025-05-06T16:27:41.970956Z"
    }
   },
   "cell_type": "code",
   "source": [
    "#определяем директории\n",
    "DATA_DIR = \"data/raw\"\n",
    "TRAIN_DIR = \"data/train\"\n",
    "VAL_DIR = \"data/val\"\n",
    "TEST_DIR = \"data/test\"\n",
    "categories = [\"yes\", \"no\"]"
   ],
   "id": "ca09678b7b80b5b2",
   "outputs": [],
   "execution_count": 20
  },
  {
   "metadata": {
    "ExecuteTime": {
     "end_time": "2025-05-06T16:27:44.664807Z",
     "start_time": "2025-05-06T16:27:44.660277Z"
    }
   },
   "cell_type": "code",
   "source": [
    "#создаем директории\n",
    "for dir_path in [TRAIN_DIR, VAL_DIR, TEST_DIR]:\n",
    "    os.makedirs(dir_path, exist_ok=True)\n",
    "    for category in categories:\n",
    "        os.makedirs(os.path.join(dir_path, category), exist_ok=True)"
   ],
   "id": "c90958c871dbe3e4",
   "outputs": [],
   "execution_count": 21
  },
  {
   "metadata": {
    "ExecuteTime": {
     "end_time": "2025-05-06T16:27:46.742272Z",
     "start_time": "2025-05-06T16:27:46.738476Z"
    }
   },
   "cell_type": "code",
   "source": [
    "#распределяем данные по директориям\n",
    "def split_and_move_data(data_dir, train_dir, val_dir, test_dir, categories):\n",
    "    for category in categories:\n",
    "        category_path = os.path.join(data_dir, category)\n",
    "        images = os.listdir(category_path)\n",
    "        \n",
    "        # Разделение на train, val, test\n",
    "        train_images, temp_images = train_test_split(images, test_size=0.3, random_state=42)\n",
    "        val_images, test_images = train_test_split(temp_images, test_size=0.5, random_state=42)\n",
    "        \n",
    "        # Перемещение файлов\n",
    "        for image_set, target_dir in [(train_images, train_dir), \n",
    "                                      (val_images, val_dir), \n",
    "                                      (test_images, test_dir)]:\n",
    "            for image in image_set:\n",
    "                shutil.move(\n",
    "                    os.path.join(category_path, image), \n",
    "                    os.path.join(target_dir, category, image)\n",
    "                )"
   ],
   "id": "4e5ce255c1761d67",
   "outputs": [],
   "execution_count": 22
  },
  {
   "metadata": {
    "ExecuteTime": {
     "end_time": "2025-05-06T16:27:48.445414Z",
     "start_time": "2025-05-06T16:27:48.413413Z"
    }
   },
   "cell_type": "code",
   "source": [
    "split_and_move_data(DATA_DIR, TRAIN_DIR, VAL_DIR, TEST_DIR, categories)\n",
    "print(\"Данные успешно разделены и перемещены!\")\n"
   ],
   "id": "d56fc6d5e2727cb1",
   "outputs": [
    {
     "ename": "FileNotFoundError",
     "evalue": "[WinError 3] Системе не удается найти указанный путь: 'data/raw\\\\yes'",
     "output_type": "error",
     "traceback": [
      "\u001B[31m---------------------------------------------------------------------------\u001B[39m",
      "\u001B[31mFileNotFoundError\u001B[39m                         Traceback (most recent call last)",
      "\u001B[36mCell\u001B[39m\u001B[36m \u001B[39m\u001B[32mIn[23]\u001B[39m\u001B[32m, line 1\u001B[39m\n\u001B[32m----> \u001B[39m\u001B[32m1\u001B[39m \u001B[43msplit_and_move_data\u001B[49m\u001B[43m(\u001B[49m\u001B[43mDATA_DIR\u001B[49m\u001B[43m,\u001B[49m\u001B[43m \u001B[49m\u001B[43mTRAIN_DIR\u001B[49m\u001B[43m,\u001B[49m\u001B[43m \u001B[49m\u001B[43mVAL_DIR\u001B[49m\u001B[43m,\u001B[49m\u001B[43m \u001B[49m\u001B[43mTEST_DIR\u001B[49m\u001B[43m,\u001B[49m\u001B[43m \u001B[49m\u001B[43mcategories\u001B[49m\u001B[43m)\u001B[49m\n\u001B[32m      2\u001B[39m \u001B[38;5;28mprint\u001B[39m(\u001B[33m\"\u001B[39m\u001B[33mДанные успешно разделены и перемещены!\u001B[39m\u001B[33m\"\u001B[39m)\n",
      "\u001B[36mCell\u001B[39m\u001B[36m \u001B[39m\u001B[32mIn[22]\u001B[39m\u001B[32m, line 5\u001B[39m, in \u001B[36msplit_and_move_data\u001B[39m\u001B[34m(data_dir, train_dir, val_dir, test_dir, categories)\u001B[39m\n\u001B[32m      3\u001B[39m \u001B[38;5;28;01mfor\u001B[39;00m category \u001B[38;5;129;01min\u001B[39;00m categories:\n\u001B[32m      4\u001B[39m     category_path = os.path.join(data_dir, category)\n\u001B[32m----> \u001B[39m\u001B[32m5\u001B[39m     images = \u001B[43mos\u001B[49m\u001B[43m.\u001B[49m\u001B[43mlistdir\u001B[49m\u001B[43m(\u001B[49m\u001B[43mcategory_path\u001B[49m\u001B[43m)\u001B[49m\n\u001B[32m      7\u001B[39m     \u001B[38;5;66;03m# Разделение на train, val, test\u001B[39;00m\n\u001B[32m      8\u001B[39m     train_images, temp_images = train_test_split(images, test_size=\u001B[32m0.3\u001B[39m, random_state=\u001B[32m42\u001B[39m)\n",
      "\u001B[31mFileNotFoundError\u001B[39m: [WinError 3] Системе не удается найти указанный путь: 'data/raw\\\\yes'"
     ]
    }
   ],
   "execution_count": 23
  },
  {
   "metadata": {},
   "cell_type": "markdown",
   "source": "<h3>Этап 2</h3>  Предобработка данных",
   "id": "c314065490fd6523"
  },
  {
   "metadata": {},
   "cell_type": "code",
   "outputs": [],
   "execution_count": null,
   "source": "",
   "id": "dcf3e870a613629e"
  }
 ],
 "metadata": {
  "kernelspec": {
   "display_name": "Python 3",
   "language": "python",
   "name": "python3"
  },
  "language_info": {
   "codemirror_mode": {
    "name": "ipython",
    "version": 2
   },
   "file_extension": ".py",
   "mimetype": "text/x-python",
   "name": "python",
   "nbconvert_exporter": "python",
   "pygments_lexer": "ipython2",
   "version": "2.7.6"
  }
 },
 "nbformat": 4,
 "nbformat_minor": 5
}
