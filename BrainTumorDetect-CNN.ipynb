{
 "cells": [
  {
   "metadata": {},
   "cell_type": "markdown",
   "source": "<h1>CNN for to detect brain tumors using MRI images</h1>",
   "id": "1c61891ac0dd4ea6"
  },
  {
   "metadata": {},
   "cell_type": "markdown",
   "source": "<h3>Этап 1</h3> Разделение данных",
   "id": "82e7cf4b7c0e0fae"
  },
  {
   "metadata": {
    "ExecuteTime": {
     "end_time": "2025-05-06T15:52:53.692726Z",
     "start_time": "2025-05-06T15:52:48.434058Z"
    }
   },
   "cell_type": "code",
   "source": [
    "import os\n",
    "import shutil\n",
    "from sklearn.model_selection import train_test_split"
   ],
   "id": "8f01c29f078bc629",
   "outputs": [],
   "execution_count": 1
  },
  {
   "metadata": {
    "ExecuteTime": {
     "end_time": "2025-05-06T15:52:53.706111Z",
     "start_time": "2025-05-06T15:52:53.703070Z"
    }
   },
   "cell_type": "code",
   "source": [
    "#определяем директории\n",
    "DATA_DIR = \"data/raw\"\n",
    "TRAIN_DIR = \"data/train\"\n",
    "VAL_DIR = \"data/val\"\n",
    "TEST_DIR = \"data/test\"\n",
    "categories = [\"yes\", \"no\"]"
   ],
   "id": "ca09678b7b80b5b2",
   "outputs": [],
   "execution_count": 2
  },
  {
   "metadata": {
    "ExecuteTime": {
     "end_time": "2025-05-06T15:52:53.716571Z",
     "start_time": "2025-05-06T15:52:53.711432Z"
    }
   },
   "cell_type": "code",
   "source": [
    "#создаем директории\n",
    "for dir_path in [TRAIN_DIR, VAL_DIR, TEST_DIR]:\n",
    "    os.makedirs(dir_path, exist_ok=True)\n",
    "    for category in categories:\n",
    "        os.makedirs(os.path.join(dir_path, category), exist_ok=True)"
   ],
   "id": "c90958c871dbe3e4",
   "outputs": [],
   "execution_count": 3
  },
  {
   "metadata": {
    "ExecuteTime": {
     "end_time": "2025-05-06T16:03:23.520386Z",
     "start_time": "2025-05-06T16:03:23.516966Z"
    }
   },
   "cell_type": "code",
   "source": [
    "#распределяем данные по директориям\n",
    "def split_and_move_data(data_dir, train_dir, val_dir, test_dir, categories):\n",
    "    for category in categories:\n",
    "        category_path = os.path.join(data_dir, category)\n",
    "        images = os.listdir(category_path)\n",
    "        \n",
    "        # Разделение на train, val, test\n",
    "        train_images, temp_images = train_test_split(images, test_size=0.3, random_state=42)\n",
    "        val_images, test_images = train_test_split(temp_images, test_size=0.5, random_state=42)\n",
    "        \n",
    "        # Перемещение файлов\n",
    "        for image_set, target_dir in [(train_images, train_dir), \n",
    "                                      (val_images, val_dir), \n",
    "                                      (test_images, test_dir)]:\n",
    "            for image in image_set:\n",
    "                shutil.move(\n",
    "                    os.path.join(category_path, image), \n",
    "                    os.path.join(target_dir, category, image)\n",
    "                )"
   ],
   "id": "4e5ce255c1761d67",
   "outputs": [],
   "execution_count": 7
  },
  {
   "metadata": {
    "ExecuteTime": {
     "end_time": "2025-05-06T15:53:34.557372Z",
     "start_time": "2025-05-06T15:53:34.398321Z"
    }
   },
   "cell_type": "code",
   "source": [
    "split_and_move_data(DATA_DIR, TRAIN_DIR, VAL_DIR, TEST_DIR, categories)\n",
    "print(\"Данные успешно разделены и перемещены!\")\n"
   ],
   "id": "d56fc6d5e2727cb1",
   "outputs": [
    {
     "name": "stdout",
     "output_type": "stream",
     "text": [
      "Данные успешно разделены и перемещены!\n"
     ]
    }
   ],
   "execution_count": 5
  },
  {
   "metadata": {},
   "cell_type": "markdown",
   "source": "<h3>Этап 2</h3>  Предобработка данных",
   "id": "c314065490fd6523"
  },
  {
   "metadata": {},
   "cell_type": "code",
   "outputs": [],
   "execution_count": null,
   "source": "",
   "id": "dcf3e870a613629e"
  }
 ],
 "metadata": {
  "kernelspec": {
   "display_name": "Python 3",
   "language": "python",
   "name": "python3"
  },
  "language_info": {
   "codemirror_mode": {
    "name": "ipython",
    "version": 2
   },
   "file_extension": ".py",
   "mimetype": "text/x-python",
   "name": "python",
   "nbconvert_exporter": "python",
   "pygments_lexer": "ipython2",
   "version": "2.7.6"
  }
 },
 "nbformat": 4,
 "nbformat_minor": 5
}
