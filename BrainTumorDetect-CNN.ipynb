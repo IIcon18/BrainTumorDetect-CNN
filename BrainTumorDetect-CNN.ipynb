{
 "cells": [
  {
   "metadata": {},
   "cell_type": "markdown",
   "source": "<h1>CNN for to detect brain tumors using MRI images</h1>",
   "id": "1c61891ac0dd4ea6"
  },
  {
   "metadata": {
    "ExecuteTime": {
     "end_time": "2025-05-08T18:01:31.040349Z",
     "start_time": "2025-05-08T18:01:31.035975Z"
    }
   },
   "cell_type": "code",
   "source": [
    "# Импорт необходимых библиотек\n",
    "import os\n",
    "import numpy as np\n",
    "import matplotlib.pyplot as plt\n",
    "from sklearn.utils import class_weight\n",
    "from tensorflow.keras.models import Sequential, Model\n",
    "from tensorflow.keras.layers import (Conv2D, MaxPooling2D, Flatten, Dense, Dropout, \n",
    "                                     BatchNormalization, LeakyReLU, GlobalAveragePooling2D)\n",
    "from tensorflow.keras.preprocessing.image import ImageDataGenerator\n",
    "from tensorflow.keras.optimizers import Adam\n",
    "from tensorflow.keras.callbacks import EarlyStopping\n",
    "from tensorflow.keras.applications import MobileNet\n",
    "from tensorflow.keras.regularizers import l2"
   ],
   "id": "8f01c29f078bc629",
   "outputs": [],
   "execution_count": 176
  },
  {
   "metadata": {
    "ExecuteTime": {
     "end_time": "2025-05-08T18:01:31.056019Z",
     "start_time": "2025-05-08T18:01:31.046593Z"
    }
   },
   "cell_type": "code",
   "source": [
    "# Определяем пути к директориям и категории данных\n",
    "data_dir = 'data/raw'\n",
    "train_dir = os.path.join(data_dir, 'train')\n",
    "val_dir = os.path.join(data_dir, 'val')\n",
    "test_dir = os.path.join(data_dir, 'test')\n"
   ],
   "id": "ca09678b7b80b5b2",
   "outputs": [],
   "execution_count": 177
  },
  {
   "metadata": {
    "ExecuteTime": {
     "end_time": "2025-05-08T18:01:31.087518Z",
     "start_time": "2025-05-08T18:01:31.072694Z"
    }
   },
   "cell_type": "code",
   "source": [
    "# Создание необходимых директорий\n",
    "target_size = (224, 224)\n",
    "batch_size = 32\n",
    "learning_rate = 1e-4\n",
    "num_epochs = 30"
   ],
   "id": "c90958c871dbe3e4",
   "outputs": [],
   "execution_count": 178
  },
  {
   "metadata": {
    "ExecuteTime": {
     "end_time": "2025-05-08T18:01:31.118098Z",
     "start_time": "2025-05-08T18:01:31.103429Z"
    }
   },
   "cell_type": "code",
   "source": [
    "train_datagen = ImageDataGenerator(\n",
    "    rescale=1./255,\n",
    "    rotation_range=20,\n",
    "    width_shift_range=0.1,\n",
    "    height_shift_range=0.1,\n",
    "    shear_range=0.1,\n",
    "    zoom_range=0.1,\n",
    "    horizontal_flip=True,\n",
    "    fill_mode='nearest'\n",
    ")\n",
    "\n",
    "val_datagen = ImageDataGenerator(rescale=1./255)"
   ],
   "id": "4e5ce255c1761d67",
   "outputs": [],
   "execution_count": 179
  },
  {
   "metadata": {
    "ExecuteTime": {
     "end_time": "2025-05-08T18:01:31.164794Z",
     "start_time": "2025-05-08T18:01:31.134526Z"
    }
   },
   "cell_type": "code",
   "source": [
    "# Генераторы данных\n",
    "train_generator = train_datagen.flow_from_directory(\n",
    "    train_dir,\n",
    "    target_size=target_size,\n",
    "    batch_size=batch_size,\n",
    "    class_mode='binary'\n",
    ")\n",
    "\n",
    "validation_generator = val_datagen.flow_from_directory(\n",
    "    val_dir,\n",
    "    target_size=target_size,\n",
    "    batch_size=batch_size,\n",
    "    class_mode='binary'\n",
    ")\n",
    "\n"
   ],
   "id": "d56fc6d5e2727cb1",
   "outputs": [
    {
     "name": "stdout",
     "output_type": "stream",
     "text": [
      "Found 176 images belonging to 2 classes.\n",
      "Found 38 images belonging to 2 classes.\n"
     ]
    }
   ],
   "execution_count": 180
  },
  {
   "metadata": {
    "ExecuteTime": {
     "end_time": "2025-05-08T18:01:31.195399Z",
     "start_time": "2025-05-08T18:01:31.182321Z"
    }
   },
   "cell_type": "code",
   "source": [
    "# Рассчитать веса классов\n",
    "class_weights = class_weight.compute_class_weight(\n",
    "    class_weight='balanced',\n",
    "    classes=np.unique(train_generator.classes),\n",
    "    y=train_generator.classes\n",
    ")\n",
    "class_weights = dict(enumerate(class_weights))"
   ],
   "id": "9763450654e62339",
   "outputs": [],
   "execution_count": 181
  },
  {
   "metadata": {
    "ExecuteTime": {
     "end_time": "2025-05-08T18:01:33.929580Z",
     "start_time": "2025-05-08T18:01:31.213161Z"
    }
   },
   "cell_type": "code",
   "source": [
    "# Предобученная модель (MobileNet)\n",
    "base_model = MobileNet(weights='imagenet', include_top=False, input_shape=(224, 224, 3))\n",
    "x = base_model.output\n",
    "x = GlobalAveragePooling2D()(x)\n",
    "x = Dense(256, activation='relu', kernel_regularizer=l2(0.01))(x)\n",
    "x = Dropout(0.5)(x)\n",
    "predictions = Dense(1, activation='sigmoid')(x)\n",
    "model = Model(inputs=base_model.input, outputs=predictions)"
   ],
   "id": "98e21006d3173a1",
   "outputs": [
    {
     "name": "stdout",
     "output_type": "stream",
     "text": [
      "Downloading data from https://storage.googleapis.com/tensorflow/keras-applications/mobilenet/mobilenet_1_0_224_tf_no_top.h5\n",
      "\u001B[1m17225924/17225924\u001B[0m \u001B[32m━━━━━━━━━━━━━━━━━━━━\u001B[0m\u001B[37m\u001B[0m \u001B[1m2s\u001B[0m 0us/step\n"
     ]
    }
   ],
   "execution_count": 182
  },
  {
   "metadata": {
    "ExecuteTime": {
     "end_time": "2025-05-08T18:01:33.960979Z",
     "start_time": "2025-05-08T18:01:33.946655Z"
    }
   },
   "cell_type": "code",
   "source": [
    "# Заморозка слоев базовой модели\n",
    "for layer in base_model.layers:\n",
    "    layer.trainable = False"
   ],
   "id": "43fb006b1895f64f",
   "outputs": [],
   "execution_count": 183
  },
  {
   "metadata": {
    "ExecuteTime": {
     "end_time": "2025-05-08T18:01:33.992295Z",
     "start_time": "2025-05-08T18:01:33.977793Z"
    }
   },
   "cell_type": "code",
   "source": [
    "# Компиляция модели\n",
    "model.compile(optimizer=Adam(learning_rate=learning_rate),\n",
    "              loss='binary_crossentropy',\n",
    "              metrics=['accuracy'])"
   ],
   "id": "add567fd41ca8202",
   "outputs": [],
   "execution_count": 184
  },
  {
   "metadata": {
    "ExecuteTime": {
     "end_time": "2025-05-08T18:01:34.022990Z",
     "start_time": "2025-05-08T18:01:34.009225Z"
    }
   },
   "cell_type": "code",
   "source": [
    "# Callbacks\n",
    "early_stopping = EarlyStopping(monitor='val_loss', patience=5, restore_best_weights=True)"
   ],
   "id": "2fa744f2fc079e51",
   "outputs": [],
   "execution_count": 185
  },
  {
   "metadata": {
    "ExecuteTime": {
     "end_time": "2025-05-08T18:03:03.788836Z",
     "start_time": "2025-05-08T18:01:34.039945Z"
    }
   },
   "cell_type": "code",
   "source": [
    "# Обучение модели\n",
    "history = model.fit(\n",
    "    train_generator,\n",
    "    validation_data=validation_generator,\n",
    "    epochs=num_epochs,\n",
    "    class_weight=class_weights,\n",
    "    callbacks=[early_stopping]\n",
    ")"
   ],
   "id": "59402cd27c1525d",
   "outputs": [
    {
     "name": "stderr",
     "output_type": "stream",
     "text": [
      "C:\\Users\\ogkri\\AppData\\Local\\Programs\\Python\\Python310\\lib\\site-packages\\keras\\src\\trainers\\data_adapters\\py_dataset_adapter.py:121: UserWarning: Your `PyDataset` class should call `super().__init__(**kwargs)` in its constructor. `**kwargs` can include `workers`, `use_multiprocessing`, `max_queue_size`. Do not pass these arguments to `fit()`, as they will be ignored.\n",
      "  self._warn_if_super_not_called()\n"
     ]
    },
    {
     "name": "stdout",
     "output_type": "stream",
     "text": [
      "Epoch 1/30\n",
      "\u001B[1m6/6\u001B[0m \u001B[32m━━━━━━━━━━━━━━━━━━━━\u001B[0m\u001B[37m\u001B[0m \u001B[1m5s\u001B[0m 619ms/step - accuracy: 0.5687 - loss: 4.8627 - val_accuracy: 0.5789 - val_loss: 4.6626\n",
      "Epoch 2/30\n",
      "\u001B[1m6/6\u001B[0m \u001B[32m━━━━━━━━━━━━━━━━━━━━\u001B[0m\u001B[37m\u001B[0m \u001B[1m3s\u001B[0m 454ms/step - accuracy: 0.5113 - loss: 4.8737 - val_accuracy: 0.6316 - val_loss: 4.5824\n",
      "Epoch 3/30\n",
      "\u001B[1m6/6\u001B[0m \u001B[32m━━━━━━━━━━━━━━━━━━━━\u001B[0m\u001B[37m\u001B[0m \u001B[1m3s\u001B[0m 434ms/step - accuracy: 0.7594 - loss: 4.5448 - val_accuracy: 0.6842 - val_loss: 4.5039\n",
      "Epoch 4/30\n",
      "\u001B[1m6/6\u001B[0m \u001B[32m━━━━━━━━━━━━━━━━━━━━\u001B[0m\u001B[37m\u001B[0m \u001B[1m3s\u001B[0m 435ms/step - accuracy: 0.6543 - loss: 4.5287 - val_accuracy: 0.7105 - val_loss: 4.4157\n",
      "Epoch 5/30\n",
      "\u001B[1m6/6\u001B[0m \u001B[32m━━━━━━━━━━━━━━━━━━━━\u001B[0m\u001B[37m\u001B[0m \u001B[1m3s\u001B[0m 487ms/step - accuracy: 0.7250 - loss: 4.3753 - val_accuracy: 0.7895 - val_loss: 4.3280\n",
      "Epoch 6/30\n",
      "\u001B[1m6/6\u001B[0m \u001B[32m━━━━━━━━━━━━━━━━━━━━\u001B[0m\u001B[37m\u001B[0m \u001B[1m3s\u001B[0m 440ms/step - accuracy: 0.7564 - loss: 4.4098 - val_accuracy: 0.8158 - val_loss: 4.2593\n",
      "Epoch 7/30\n",
      "\u001B[1m6/6\u001B[0m \u001B[32m━━━━━━━━━━━━━━━━━━━━\u001B[0m\u001B[37m\u001B[0m \u001B[1m3s\u001B[0m 467ms/step - accuracy: 0.7916 - loss: 4.2768 - val_accuracy: 0.8421 - val_loss: 4.1810\n",
      "Epoch 8/30\n",
      "\u001B[1m6/6\u001B[0m \u001B[32m━━━━━━━━━━━━━━━━━━━━\u001B[0m\u001B[37m\u001B[0m \u001B[1m3s\u001B[0m 524ms/step - accuracy: 0.7964 - loss: 4.3036 - val_accuracy: 0.8158 - val_loss: 4.1382\n",
      "Epoch 9/30\n",
      "\u001B[1m6/6\u001B[0m \u001B[32m━━━━━━━━━━━━━━━━━━━━\u001B[0m\u001B[37m\u001B[0m \u001B[1m3s\u001B[0m 470ms/step - accuracy: 0.8372 - loss: 4.1390 - val_accuracy: 0.8158 - val_loss: 4.0899\n",
      "Epoch 10/30\n",
      "\u001B[1m6/6\u001B[0m \u001B[32m━━━━━━━━━━━━━━━━━━━━\u001B[0m\u001B[37m\u001B[0m \u001B[1m3s\u001B[0m 467ms/step - accuracy: 0.7879 - loss: 4.1304 - val_accuracy: 0.8158 - val_loss: 4.0450\n",
      "Epoch 11/30\n",
      "\u001B[1m6/6\u001B[0m \u001B[32m━━━━━━━━━━━━━━━━━━━━\u001B[0m\u001B[37m\u001B[0m \u001B[1m3s\u001B[0m 461ms/step - accuracy: 0.8218 - loss: 4.0904 - val_accuracy: 0.8158 - val_loss: 3.9964\n",
      "Epoch 12/30\n",
      "\u001B[1m6/6\u001B[0m \u001B[32m━━━━━━━━━━━━━━━━━━━━\u001B[0m\u001B[37m\u001B[0m \u001B[1m3s\u001B[0m 481ms/step - accuracy: 0.8306 - loss: 3.9886 - val_accuracy: 0.8158 - val_loss: 3.9381\n",
      "Epoch 13/30\n",
      "\u001B[1m6/6\u001B[0m \u001B[32m━━━━━━━━━━━━━━━━━━━━\u001B[0m\u001B[37m\u001B[0m \u001B[1m3s\u001B[0m 531ms/step - accuracy: 0.8303 - loss: 3.9204 - val_accuracy: 0.8684 - val_loss: 3.8625\n",
      "Epoch 14/30\n",
      "\u001B[1m6/6\u001B[0m \u001B[32m━━━━━━━━━━━━━━━━━━━━\u001B[0m\u001B[37m\u001B[0m \u001B[1m3s\u001B[0m 493ms/step - accuracy: 0.8278 - loss: 3.9394 - val_accuracy: 0.8421 - val_loss: 3.8351\n",
      "Epoch 15/30\n",
      "\u001B[1m6/6\u001B[0m \u001B[32m━━━━━━━━━━━━━━━━━━━━\u001B[0m\u001B[37m\u001B[0m \u001B[1m3s\u001B[0m 488ms/step - accuracy: 0.8768 - loss: 3.7917 - val_accuracy: 0.8421 - val_loss: 3.8036\n",
      "Epoch 16/30\n",
      "\u001B[1m6/6\u001B[0m \u001B[32m━━━━━━━━━━━━━━━━━━━━\u001B[0m\u001B[37m\u001B[0m \u001B[1m3s\u001B[0m 451ms/step - accuracy: 0.8616 - loss: 3.7767 - val_accuracy: 0.8421 - val_loss: 3.7385\n",
      "Epoch 17/30\n",
      "\u001B[1m6/6\u001B[0m \u001B[32m━━━━━━━━━━━━━━━━━━━━\u001B[0m\u001B[37m\u001B[0m \u001B[1m3s\u001B[0m 472ms/step - accuracy: 0.8823 - loss: 3.6943 - val_accuracy: 0.8684 - val_loss: 3.6808\n",
      "Epoch 18/30\n",
      "\u001B[1m6/6\u001B[0m \u001B[32m━━━━━━━━━━━━━━━━━━━━\u001B[0m\u001B[37m\u001B[0m \u001B[1m3s\u001B[0m 455ms/step - accuracy: 0.9404 - loss: 3.5970 - val_accuracy: 0.8421 - val_loss: 3.6463\n",
      "Epoch 19/30\n",
      "\u001B[1m6/6\u001B[0m \u001B[32m━━━━━━━━━━━━━━━━━━━━\u001B[0m\u001B[37m\u001B[0m \u001B[1m3s\u001B[0m 512ms/step - accuracy: 0.8904 - loss: 3.6211 - val_accuracy: 0.8421 - val_loss: 3.6241\n",
      "Epoch 20/30\n",
      "\u001B[1m6/6\u001B[0m \u001B[32m━━━━━━━━━━━━━━━━━━━━\u001B[0m\u001B[37m\u001B[0m \u001B[1m3s\u001B[0m 525ms/step - accuracy: 0.9068 - loss: 3.5713 - val_accuracy: 0.8421 - val_loss: 3.5910\n",
      "Epoch 21/30\n",
      "\u001B[1m6/6\u001B[0m \u001B[32m━━━━━━━━━━━━━━━━━━━━\u001B[0m\u001B[37m\u001B[0m \u001B[1m3s\u001B[0m 514ms/step - accuracy: 0.8604 - loss: 3.5281 - val_accuracy: 0.8684 - val_loss: 3.5486\n",
      "Epoch 22/30\n",
      "\u001B[1m6/6\u001B[0m \u001B[32m━━━━━━━━━━━━━━━━━━━━\u001B[0m\u001B[37m\u001B[0m \u001B[1m3s\u001B[0m 461ms/step - accuracy: 0.8710 - loss: 3.4593 - val_accuracy: 0.8947 - val_loss: 3.4719\n",
      "Epoch 23/30\n",
      "\u001B[1m6/6\u001B[0m \u001B[32m━━━━━━━━━━━━━━━━━━━━\u001B[0m\u001B[37m\u001B[0m \u001B[1m3s\u001B[0m 474ms/step - accuracy: 0.9314 - loss: 3.3805 - val_accuracy: 0.9211 - val_loss: 3.4226\n",
      "Epoch 24/30\n",
      "\u001B[1m6/6\u001B[0m \u001B[32m━━━━━━━━━━━━━━━━━━━━\u001B[0m\u001B[37m\u001B[0m \u001B[1m3s\u001B[0m 506ms/step - accuracy: 0.9097 - loss: 3.4028 - val_accuracy: 0.8947 - val_loss: 3.3871\n",
      "Epoch 25/30\n",
      "\u001B[1m6/6\u001B[0m \u001B[32m━━━━━━━━━━━━━━━━━━━━\u001B[0m\u001B[37m\u001B[0m \u001B[1m3s\u001B[0m 461ms/step - accuracy: 0.9367 - loss: 3.3078 - val_accuracy: 0.8947 - val_loss: 3.3599\n",
      "Epoch 26/30\n",
      "\u001B[1m6/6\u001B[0m \u001B[32m━━━━━━━━━━━━━━━━━━━━\u001B[0m\u001B[37m\u001B[0m \u001B[1m3s\u001B[0m 460ms/step - accuracy: 0.9267 - loss: 3.2492 - val_accuracy: 0.8684 - val_loss: 3.3369\n",
      "Epoch 27/30\n",
      "\u001B[1m6/6\u001B[0m \u001B[32m━━━━━━━━━━━━━━━━━━━━\u001B[0m\u001B[37m\u001B[0m \u001B[1m3s\u001B[0m 527ms/step - accuracy: 0.9050 - loss: 3.2633 - val_accuracy: 0.8947 - val_loss: 3.2813\n",
      "Epoch 28/30\n",
      "\u001B[1m6/6\u001B[0m \u001B[32m━━━━━━━━━━━━━━━━━━━━\u001B[0m\u001B[37m\u001B[0m \u001B[1m3s\u001B[0m 496ms/step - accuracy: 0.9676 - loss: 3.1727 - val_accuracy: 0.8947 - val_loss: 3.2413\n",
      "Epoch 29/30\n",
      "\u001B[1m6/6\u001B[0m \u001B[32m━━━━━━━━━━━━━━━━━━━━\u001B[0m\u001B[37m\u001B[0m \u001B[1m3s\u001B[0m 599ms/step - accuracy: 0.8882 - loss: 3.2114 - val_accuracy: 0.8947 - val_loss: 3.2156\n",
      "Epoch 30/30\n",
      "\u001B[1m6/6\u001B[0m \u001B[32m━━━━━━━━━━━━━━━━━━━━\u001B[0m\u001B[37m\u001B[0m \u001B[1m3s\u001B[0m 479ms/step - accuracy: 0.9456 - loss: 3.1202 - val_accuracy: 0.8421 - val_loss: 3.2157\n"
     ]
    }
   ],
   "execution_count": 186
  },
  {
   "metadata": {
    "ExecuteTime": {
     "end_time": "2025-05-08T18:03:03.973973Z",
     "start_time": "2025-05-08T18:03:03.806737Z"
    }
   },
   "cell_type": "code",
   "source": [
    "# Графики обучения\n",
    "def plot_training_history(history):\n",
    "    plt.figure(figsize=(12, 4))\n",
    "    \n",
    "    # Loss\n",
    "    plt.subplot(1, 2, 1)\n",
    "    plt.plot(history.history['loss'], label='Train Loss')\n",
    "    plt.plot(history.history['val_loss'], label='Validation Loss')\n",
    "    plt.title('Loss')\n",
    "    plt.xlabel('Epoch')\n",
    "    plt.ylabel('Loss')\n",
    "    plt.legend()\n",
    "    \n",
    "    # Accuracy\n",
    "    plt.subplot(1, 2, 2)\n",
    "    plt.plot(history.history['accuracy'], label='Train Accuracy')\n",
    "    plt.plot(history.history['val_accuracy'], label='Validation Accuracy')\n",
    "    plt.title('Accuracy')\n",
    "    plt.xlabel('Epoch')\n",
    "    plt.ylabel('Accuracy')\n",
    "    plt.legend()\n",
    "    \n",
    "    plt.show()\n",
    "    \n",
    "plot_training_history(history)"
   ],
   "id": "68ea0ee80d9daf2a",
   "outputs": [
    {
     "data": {
      "text/plain": [
       "<Figure size 1200x400 with 2 Axes>"
      ],
      "image/png": "[encoded data removed]"
     },
     "metadata": {},
     "output_type": "display_data"
    }
   ],
   "execution_count": 187
  },
  {
   "metadata": {
    "ExecuteTime": {
     "end_time": "2025-05-08T18:03:04.564744Z",
     "start_time": "2025-05-08T18:03:03.990739Z"
    }
   },
   "cell_type": "code",
   "source": [
    "# Оценка модели\n",
    "print(\"Evaluating model on test data...\")\n",
    "test_datagen = ImageDataGenerator(rescale=1./255)\n",
    "test_generator = test_datagen.flow_from_directory(\n",
    "    test_dir,\n",
    "    target_size=target_size,\n",
    "    batch_size=batch_size,\n",
    "    class_mode='binary',\n",
    "    shuffle=False\n",
    ")\n",
    "\n",
    "results = model.evaluate(test_generator)\n",
    "print(f\"Test Loss: {results[0]:.4f}, Test Accuracy: {results[1]:.4f}\")\n"
   ],
   "id": "a3a1b052d42bc7c2",
   "outputs": [
    {
     "name": "stdout",
     "output_type": "stream",
     "text": [
      "Evaluating model on test data...\n",
      "Found 39 images belonging to 2 classes.\n",
      "\u001B[1m2/2\u001B[0m \u001B[32m━━━━━━━━━━━━━━━━━━━━\u001B[0m\u001B[37m\u001B[0m \u001B[1m0s\u001B[0m 73ms/step - accuracy: 0.8178 - loss: 3.3689\n",
      "Test Loss: 3.3679, Test Accuracy: 0.8205\n"
     ]
    }
   ],
   "execution_count": 188
  }
 ],
 "metadata": {
  "kernelspec": {
   "display_name": "Python 3",
   "language": "python",
   "name": "python3"
  },
  "language_info": {
   "codemirror_mode": {
    "name": "ipython",
    "version": 2
   },
   "file_extension": ".py",
   "mimetype": "text/x-python",
   "name": "python",
   "nbconvert_exporter": "python",
   "pygments_lexer": "ipython2",
   "version": "2.7.6"
  }
 },
 "nbformat": 4,
 "nbformat_minor": 5
}
