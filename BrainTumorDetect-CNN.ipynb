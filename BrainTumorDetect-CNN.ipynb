{
 "cells": [
  {
   "metadata": {},
   "cell_type": "markdown",
   "source": "<h1>CNN for to detect brain tumors using MRI images</h1>",
   "id": "1c61891ac0dd4ea6"
  },
  {
   "metadata": {},
   "cell_type": "markdown",
   "source": "<h3>Этап 1</h3> Разделение данных",
   "id": "82e7cf4b7c0e0fae"
  },
  {
   "metadata": {
    "ExecuteTime": {
     "end_time": "2025-05-06T20:16:09.503102Z",
     "start_time": "2025-05-06T20:16:08.870672Z"
    }
   },
   "cell_type": "code",
   "source": [
    "import os\n",
    "import shutil"
   ],
   "id": "8f01c29f078bc629",
   "outputs": [],
   "execution_count": 2
  },
  {
   "metadata": {
    "ExecuteTime": {
     "end_time": "2025-05-06T20:16:11.137788Z",
     "start_time": "2025-05-06T20:16:11.135331Z"
    }
   },
   "cell_type": "code",
   "source": [
    "#определяем директории\n",
    "DATA_DIR = \"data/raw\"\n",
    "TRAIN_DIR = \"data/train\"\n",
    "VAL_DIR = \"data/val\"\n",
    "TEST_DIR = \"data/test\"\n",
    "categories = [\"yes\", \"no\"]"
   ],
   "id": "ca09678b7b80b5b2",
   "outputs": [],
   "execution_count": 3
  },
  {
   "metadata": {
    "ExecuteTime": {
     "end_time": "2025-05-06T20:16:12.841263Z",
     "start_time": "2025-05-06T20:16:12.838887Z"
    }
   },
   "cell_type": "code",
   "source": [
    "#создаем директории\n",
    "for dir_path in [TRAIN_DIR, VAL_DIR, TEST_DIR]:\n",
    "    os.makedirs(dir_path, exist_ok=True)\n",
    "    for category in categories:\n",
    "        os.makedirs(os.path.join(dir_path, category), exist_ok=True)"
   ],
   "id": "c90958c871dbe3e4",
   "outputs": [],
   "execution_count": 4
  },
  {
   "metadata": {
    "ExecuteTime": {
     "end_time": "2025-05-06T20:16:15.188933Z",
     "start_time": "2025-05-06T20:16:15.185685Z"
    }
   },
   "cell_type": "code",
   "source": [
    "#распределяем данные по директориям\n",
    "def split_and_move_data(data_dir, train_dir, val_dir, test_dir, categories):\n",
    "    for category in categories:\n",
    "        category_path = os.path.join(data_dir, category)\n",
    "        images = os.listdir(category_path)\n",
    "        \n",
    "        # Разделение на train, val, test\n",
    "        train_images, temp_images = train_test_split(images, test_size=0.3, random_state=42)\n",
    "        val_images, test_images = train_test_split(temp_images, test_size=0.5, random_state=42)\n",
    "        \n",
    "        # Перемещение файлов\n",
    "        for image_set, target_dir in [(train_images, train_dir), \n",
    "                                      (val_images, val_dir), \n",
    "                                      (test_images, test_dir)]:\n",
    "            for image in image_set:\n",
    "                shutil.move(\n",
    "                    os.path.join(category_path, image), \n",
    "                    os.path.join(target_dir, category, image)\n",
    "                )"
   ],
   "id": "4e5ce255c1761d67",
   "outputs": [],
   "execution_count": 5
  },
  {
   "metadata": {
    "ExecuteTime": {
     "end_time": "2025-05-06T20:16:17.989389Z",
     "start_time": "2025-05-06T20:16:17.962175Z"
    }
   },
   "cell_type": "code",
   "source": [
    "split_and_move_data(DATA_DIR, TRAIN_DIR, VAL_DIR, TEST_DIR, categories)\n",
    "print(\"Данные успешно разделены и перемещены!\")\n"
   ],
   "id": "d56fc6d5e2727cb1",
   "outputs": [
    {
     "name": "stdout",
     "output_type": "stream",
     "text": [
      "Данные успешно разделены и перемещены!\n"
     ]
    }
   ],
   "execution_count": 6
  },
  {
   "metadata": {},
   "cell_type": "markdown",
   "source": "<h3>Этап 2</h3>  Предобработка данных",
   "id": "c314065490fd6523"
  },
  {
   "metadata": {
    "ExecuteTime": {
     "end_time": "2025-05-06T21:24:28.990962Z",
     "start_time": "2025-05-06T21:24:15.684250Z"
    }
   },
   "cell_type": "code",
   "source": [
    "#импортируем библиотки\n",
    "import numpy as np\n",
    "from tensorflow.keras.preprocessing.image import ImageDataGenerator, load_img, img_to_array\n",
    "from sklearn.model_selection import train_test_split\n",
    "from PIL import Image"
   ],
   "id": "dcf3e870a613629e",
   "outputs": [
    {
     "name": "stderr",
     "output_type": "stream",
     "text": [
      "Matplotlib is building the font cache; this may take a moment.\n"
     ]
    }
   ],
   "execution_count": 1
  },
  {
   "metadata": {},
   "cell_type": "code",
   "outputs": [],
   "execution_count": null,
   "source": [
    "#задаем параметры изображений\n",
    "img_size = (224, 224)\n",
    "data_dir = \"data/raw\"\n",
    "output_dir = \"data/processed\""
   ],
   "id": "9763450654e62339"
  },
  {
   "metadata": {},
   "cell_type": "code",
   "outputs": [],
   "execution_count": null,
   "source": "#предобработка данных\n",
   "id": "98e21006d3173a1"
  }
 ],
 "metadata": {
  "kernelspec": {
   "display_name": "Python 3",
   "language": "python",
   "name": "python3"
  },
  "language_info": {
   "codemirror_mode": {
    "name": "ipython",
    "version": 2
   },
   "file_extension": ".py",
   "mimetype": "text/x-python",
   "name": "python",
   "nbconvert_exporter": "python",
   "pygments_lexer": "ipython2",
   "version": "2.7.6"
  }
 },
 "nbformat": 4,
 "nbformat_minor": 5
}
